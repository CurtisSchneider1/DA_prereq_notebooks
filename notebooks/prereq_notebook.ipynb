{
 "cells": [
  {
   "cell_type": "code",
   "execution_count": 1,
   "id": "2b28d7cd",
   "metadata": {},
   "outputs": [
    {
     "name": "stdout",
     "output_type": "stream",
     "text": [
      "Did you know that a group of owls is called a parliament?\n"
     ]
    }
   ],
   "source": [
    "print(\"Did you know that a group of owls is called a parliament?\")"
   ]
  },
  {
   "cell_type": "markdown",
   "id": "58142611",
   "metadata": {},
   "source": [
    "Hello! My name is Curtis, and I am a husband to an amazing wife and father to an equally amazing 4-year old. I am excited to learn Python and SQL to eventually use as a springboard for a future career shift from recruiting. And frankly, I want to use Python for coding some nerdy ideas me and my friends have. Looking forward to learning from you!"
   ]
  }
 ],
 "metadata": {
  "kernelspec": {
   "display_name": "Python 3",
   "language": "python",
   "name": "python3"
  },
  "language_info": {
   "codemirror_mode": {
    "name": "ipython",
    "version": 3
   },
   "file_extension": ".py",
   "mimetype": "text/x-python",
   "name": "python",
   "nbconvert_exporter": "python",
   "pygments_lexer": "ipython3",
   "version": "3.13.4"
  }
 },
 "nbformat": 4,
 "nbformat_minor": 5
}
